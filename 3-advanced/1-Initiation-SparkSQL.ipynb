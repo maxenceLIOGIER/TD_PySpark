{
 "cells": [
  {
   "cell_type": "markdown",
   "metadata": {},
   "source": [
    "Before you turn this problem in, make sure everything runs as expected. First, **restart the kernel** (in the menubar, select Kernel$\\rightarrow$Restart) and then **run all cells** (in the menubar, select Cell$\\rightarrow$Run All).\n",
    "\n",
    "Make sure you fill in any place that says `YOUR CODE HERE` or \"YOUR ANSWER HERE\", as well as your name and collaborators below:"
   ]
  },
  {
   "cell_type": "code",
   "execution_count": 3,
   "metadata": {},
   "outputs": [],
   "source": [
    "NAME = \"LIOGIER Maxence\"\n",
    "COLLABORATORS = \"\""
   ]
  },
  {
   "cell_type": "markdown",
   "metadata": {},
   "source": [
    "---"
   ]
  },
  {
   "cell_type": "markdown",
   "metadata": {
    "deletable": false,
    "editable": false,
    "nbgrader": {
     "cell_type": "markdown",
     "checksum": "e0e533da5815559c0bf6121cbae94175",
     "grade": false,
     "grade_id": "cell-7fa9ef9f0e824f8d",
     "locked": true,
     "schema_version": 3,
     "solution": false
    }
   },
   "source": [
    "# SparkSQL\n",
    "\n",
    "In this notebook, we introduce SparkSQL, Spark's interface for working with structured data. From Spark 2.0 and forward, this is the preferred way of implementing Spark code, as it contains all of the latest optimisations.\n",
    "\n",
    "PySpark benefits a lot from SparkSQL, as there is performance parity between Scala, Java, Python and R interfaces for Spark which use the same optimizer. "
   ]
  },
  {
   "cell_type": "markdown",
   "metadata": {
    "deletable": false,
    "editable": false,
    "nbgrader": {
     "cell_type": "markdown",
     "checksum": "3d9e8482a065f020b11bedd0770e02b2",
     "grade": false,
     "grade_id": "cell-6e5d231a205820d5",
     "locked": true,
     "schema_version": 3,
     "solution": false
    }
   },
   "source": [
    "---\n",
    "## Prerequisites\n",
    "\n",
    "Before running Spark code, we need to start a SparkSession instance. The following block will be common to every notebook so you can run your code.\n",
    "\n",
    "While your SparkSession is running, you can hit `http://localhost:4040` or `http://host.docker.internal:4040` to get an overview of your Spark local cluster and all operations ongoing."
   ]
  },
  {
   "cell_type": "code",
   "execution_count": 4,
   "metadata": {
    "deletable": false,
    "editable": false,
    "nbgrader": {
     "cell_type": "code",
     "checksum": "fbe887d38fff8342d47e41abcd97211a",
     "grade": false,
     "grade_id": "cell-5be3741301fa4113",
     "locked": true,
     "schema_version": 3,
     "solution": false
    }
   },
   "outputs": [
    {
     "data": {
      "text/html": [
       "\n",
       "            <div>\n",
       "                <p><b>SparkSession - in-memory</b></p>\n",
       "                \n",
       "        <div>\n",
       "            <p><b>SparkContext</b></p>\n",
       "\n",
       "            <p><a href=\"http://maxence:4040\">Spark UI</a></p>\n",
       "\n",
       "            <dl>\n",
       "              <dt>Version</dt>\n",
       "                <dd><code>v3.5.2</code></dd>\n",
       "              <dt>Master</dt>\n",
       "                <dd><code>local</code></dd>\n",
       "              <dt>AppName</dt>\n",
       "                <dd><code>lecture-lyon2</code></dd>\n",
       "            </dl>\n",
       "        </div>\n",
       "        \n",
       "            </div>\n",
       "        "
      ],
      "text/plain": [
       "<pyspark.sql.session.SparkSession at 0x271feac8a90>"
      ]
     },
     "execution_count": 4,
     "metadata": {},
     "output_type": "execute_result"
    }
   ],
   "source": [
    "from pyspark import SparkConf\n",
    "from pyspark.sql import SparkSession\n",
    "\n",
    "conf = SparkConf().setAppName('lecture-lyon2').setMaster('local')\n",
    "spark = SparkSession.builder.config(conf=conf).getOrCreate()\n",
    "spark"
   ]
  },
  {
   "cell_type": "code",
   "execution_count": 5,
   "metadata": {
    "deletable": false,
    "editable": false,
    "nbgrader": {
     "cell_type": "code",
     "checksum": "3dc4cbc9925a07f92a9d0150ddac48c2",
     "grade": false,
     "grade_id": "cell-7d0185de085b6093",
     "locked": true,
     "schema_version": 3,
     "solution": false
    }
   },
   "outputs": [
    {
     "data": {
      "text/html": [
       "    <style>\n",
       "        .bk-notebook-logo {\n",
       "            display: block;\n",
       "            width: 20px;\n",
       "            height: 20px;\n",
       "            background-image: url(data:image/png;base64,iVBORw0KGgoAAAANSUhEUgAAABQAAAAUCAYAAACNiR0NAAAABHNCSVQICAgIfAhkiAAAAAlwSFlzAAALEgAACxIB0t1+/AAAABx0RVh0U29mdHdhcmUAQWRvYmUgRmlyZXdvcmtzIENTNui8sowAAAOkSURBVDiNjZRtaJVlGMd/1/08zzln5zjP1LWcU9N0NkN8m2CYjpgQYQXqSs0I84OLIC0hkEKoPtiH3gmKoiJDU7QpLgoLjLIQCpEsNJ1vqUOdO7ppbuec5+V+rj4ctwzd8IIbbi6u+8f1539dt3A78eXC7QizUF7gyV1fD1Yqg4JWz84yffhm0qkFqBogB9rM8tZdtwVsPUhWhGcFJngGeWrPzHm5oaMmkfEg1usvLFyc8jLRqDOMru7AyC8saQr7GG7f5fvDeH7Ej8CM66nIF+8yngt6HWaKh7k49Soy9nXurCi1o3qUbS3zWfrYeQDTB/Qj6kX6Ybhw4B+bOYoLKCC9H3Nu/leUTZ1JdRWkkn2ldcCamzrcf47KKXdAJllSlxAOkRgyHsGC/zRday5Qld9DyoM4/q/rUoy/CXh3jzOu3bHUVZeU+DEn8FInkPBFlu3+nW3Nw0mk6vCDiWg8CeJaxEwuHS3+z5RgY+YBR6V1Z1nxSOfoaPa4LASWxxdNp+VWTk7+4vzaou8v8PN+xo+KY2xsw6une2frhw05CTYOmQvsEhjhWjn0bmXPjpE1+kplmmkP3suftwTubK9Vq22qKmrBhpY4jvd5afdRA3wGjFAgcnTK2s4hY0/GPNIb0nErGMCRxWOOX64Z8RAC4oCXdklmEvcL8o0BfkNK4lUg9HTl+oPlQxdNo3Mg4Nv175e/1LDGzZen30MEjRUtmXSfiTVu1kK8W4txyV6BMKlbgk3lMwYCiusNy9fVfvvwMxv8Ynl6vxoByANLTWplvuj/nF9m2+PDtt1eiHPBr1oIfhCChQMBw6Aw0UulqTKZdfVvfG7VcfIqLG9bcldL/+pdWTLxLUy8Qq38heUIjh4XlzZxzQm19lLFlr8vdQ97rjZVOLf8nclzckbcD4wxXMidpX30sFd37Fv/GtwwhzhxGVAprjbg0gCAEeIgwCZyTV2Z1REEW8O4py0wsjeloKoMr6iCY6dP92H6Vw/oTyICIthibxjm/DfN9lVz8IqtqKYLUXfoKVMVQVVJOElGjrnnUt9T9wbgp8AyYKaGlqingHZU/uG2NTZSVqwHQTWkx9hxjkpWDaCg6Ckj5qebgBVbT3V3NNXMSiWSDdGV3hrtzla7J+duwPOToIg42ChPQOQjspnSlp1V+Gjdged7+8UN5CRAV7a5EdFNwCjEaBR27b3W890TE7g24NAP/mMDXRWrGoFPQI9ls/MWO2dWFAar/xcOIImbbpA3zgAAAABJRU5ErkJggg==);\n",
       "        }\n",
       "    </style>\n",
       "    <div>\n",
       "        <a href=\"https://bokeh.org\" target=\"_blank\" class=\"bk-notebook-logo\"></a>\n",
       "        <span id=\"c509be0e-39fe-4e71-bba8-b931778c924e\">Loading BokehJS ...</span>\n",
       "    </div>\n"
      ]
     },
     "metadata": {},
     "output_type": "display_data"
    },
    {
     "data": {
      "application/javascript": "'use strict';\n(function(root) {\n  function now() {\n    return new Date();\n  }\n\n  const force = true;\n\n  if (typeof root._bokeh_onload_callbacks === \"undefined\" || force === true) {\n    root._bokeh_onload_callbacks = [];\n    root._bokeh_is_loading = undefined;\n  }\n\nconst JS_MIME_TYPE = 'application/javascript';\n  const HTML_MIME_TYPE = 'text/html';\n  const EXEC_MIME_TYPE = 'application/vnd.bokehjs_exec.v0+json';\n  const CLASS_NAME = 'output_bokeh rendered_html';\n\n  /**\n   * Render data to the DOM node\n   */\n  function render(props, node) {\n    const script = document.createElement(\"script\");\n    node.appendChild(script);\n  }\n\n  /**\n   * Handle when an output is cleared or removed\n   */\n  function handleClearOutput(event, handle) {\n    function drop(id) {\n      const view = Bokeh.index.get_by_id(id)\n      if (view != null) {\n        view.model.document.clear()\n        Bokeh.index.delete(view)\n      }\n    }\n\n    const cell = handle.cell;\n\n    const id = cell.output_area._bokeh_element_id;\n    const server_id = cell.output_area._bokeh_server_id;\n\n    // Clean up Bokeh references\n    if (id != null) {\n      drop(id)\n    }\n\n    if (server_id !== undefined) {\n      // Clean up Bokeh references\n      const cmd_clean = \"from bokeh.io.state import curstate; print(curstate().uuid_to_server['\" + server_id + \"'].get_sessions()[0].document.roots[0]._id)\";\n      cell.notebook.kernel.execute(cmd_clean, {\n        iopub: {\n          output: function(msg) {\n            const id = msg.content.text.trim()\n            drop(id)\n          }\n        }\n      });\n      // Destroy server and session\n      const cmd_destroy = \"import bokeh.io.notebook as ion; ion.destroy_server('\" + server_id + \"')\";\n      cell.notebook.kernel.execute(cmd_destroy);\n    }\n  }\n\n  /**\n   * Handle when a new output is added\n   */\n  function handleAddOutput(event, handle) {\n    const output_area = handle.output_area;\n    const output = handle.output;\n\n    // limit handleAddOutput to display_data with EXEC_MIME_TYPE content only\n    if ((output.output_type != \"display_data\") || (!Object.prototype.hasOwnProperty.call(output.data, EXEC_MIME_TYPE))) {\n      return\n    }\n\n    const toinsert = output_area.element.find(\".\" + CLASS_NAME.split(' ')[0]);\n\n    if (output.metadata[EXEC_MIME_TYPE][\"id\"] !== undefined) {\n      toinsert[toinsert.length - 1].firstChild.textContent = output.data[JS_MIME_TYPE];\n      // store reference to embed id on output_area\n      output_area._bokeh_element_id = output.metadata[EXEC_MIME_TYPE][\"id\"];\n    }\n    if (output.metadata[EXEC_MIME_TYPE][\"server_id\"] !== undefined) {\n      const bk_div = document.createElement(\"div\");\n      bk_div.innerHTML = output.data[HTML_MIME_TYPE];\n      const script_attrs = bk_div.children[0].attributes;\n      for (let i = 0; i < script_attrs.length; i++) {\n        toinsert[toinsert.length - 1].firstChild.setAttribute(script_attrs[i].name, script_attrs[i].value);\n        toinsert[toinsert.length - 1].firstChild.textContent = bk_div.children[0].textContent\n      }\n      // store reference to server id on output_area\n      output_area._bokeh_server_id = output.metadata[EXEC_MIME_TYPE][\"server_id\"];\n    }\n  }\n\n  function register_renderer(events, OutputArea) {\n\n    function append_mime(data, metadata, element) {\n      // create a DOM node to render to\n      const toinsert = this.create_output_subarea(\n        metadata,\n        CLASS_NAME,\n        EXEC_MIME_TYPE\n      );\n      this.keyboard_manager.register_events(toinsert);\n      // Render to node\n      const props = {data: data, metadata: metadata[EXEC_MIME_TYPE]};\n      render(props, toinsert[toinsert.length - 1]);\n      element.append(toinsert);\n      return toinsert\n    }\n\n    /* Handle when an output is cleared or removed */\n    events.on('clear_output.CodeCell', handleClearOutput);\n    events.on('delete.Cell', handleClearOutput);\n\n    /* Handle when a new output is added */\n    events.on('output_added.OutputArea', handleAddOutput);\n\n    /**\n     * Register the mime type and append_mime function with output_area\n     */\n    OutputArea.prototype.register_mime_type(EXEC_MIME_TYPE, append_mime, {\n      /* Is output safe? */\n      safe: true,\n      /* Index of renderer in `output_area.display_order` */\n      index: 0\n    });\n  }\n\n  // register the mime type if in Jupyter Notebook environment and previously unregistered\n  if (root.Jupyter !== undefined) {\n    const events = require('base/js/events');\n    const OutputArea = require('notebook/js/outputarea').OutputArea;\n\n    if (OutputArea.prototype.mime_types().indexOf(EXEC_MIME_TYPE) == -1) {\n      register_renderer(events, OutputArea);\n    }\n  }\n  if (typeof (root._bokeh_timeout) === \"undefined\" || force === true) {\n    root._bokeh_timeout = Date.now() + 5000;\n    root._bokeh_failed_load = false;\n  }\n\n  const NB_LOAD_WARNING = {'data': {'text/html':\n     \"<div style='background-color: #fdd'>\\n\"+\n     \"<p>\\n\"+\n     \"BokehJS does not appear to have successfully loaded. If loading BokehJS from CDN, this \\n\"+\n     \"may be due to a slow or bad network connection. Possible fixes:\\n\"+\n     \"</p>\\n\"+\n     \"<ul>\\n\"+\n     \"<li>re-rerun `output_notebook()` to attempt to load from CDN again, or</li>\\n\"+\n     \"<li>use INLINE resources instead, as so:</li>\\n\"+\n     \"</ul>\\n\"+\n     \"<code>\\n\"+\n     \"from bokeh.resources import INLINE\\n\"+\n     \"output_notebook(resources=INLINE)\\n\"+\n     \"</code>\\n\"+\n     \"</div>\"}};\n\n  function display_loaded(error = null) {\n    const el = document.getElementById(\"c509be0e-39fe-4e71-bba8-b931778c924e\");\n    if (el != null) {\n      const html = (() => {\n        if (typeof root.Bokeh === \"undefined\") {\n          if (error == null) {\n            return \"BokehJS is loading ...\";\n          } else {\n            return \"BokehJS failed to load.\";\n          }\n        } else {\n          const prefix = `BokehJS ${root.Bokeh.version}`;\n          if (error == null) {\n            return `${prefix} successfully loaded.`;\n          } else {\n            return `${prefix} <b>encountered errors</b> while loading and may not function as expected.`;\n          }\n        }\n      })();\n      el.innerHTML = html;\n\n      if (error != null) {\n        const wrapper = document.createElement(\"div\");\n        wrapper.style.overflow = \"auto\";\n        wrapper.style.height = \"5em\";\n        wrapper.style.resize = \"vertical\";\n        const content = document.createElement(\"div\");\n        content.style.fontFamily = \"monospace\";\n        content.style.whiteSpace = \"pre-wrap\";\n        content.style.backgroundColor = \"rgb(255, 221, 221)\";\n        content.textContent = error.stack ?? error.toString();\n        wrapper.append(content);\n        el.append(wrapper);\n      }\n    } else if (Date.now() < root._bokeh_timeout) {\n      setTimeout(() => display_loaded(error), 100);\n    }\n  }\n\n  function run_callbacks() {\n    try {\n      root._bokeh_onload_callbacks.forEach(function(callback) {\n        if (callback != null)\n          callback();\n      });\n    } finally {\n      delete root._bokeh_onload_callbacks\n    }\n    console.debug(\"Bokeh: all callbacks have finished\");\n  }\n\n  function load_libs(css_urls, js_urls, callback) {\n    if (css_urls == null) css_urls = [];\n    if (js_urls == null) js_urls = [];\n\n    root._bokeh_onload_callbacks.push(callback);\n    if (root._bokeh_is_loading > 0) {\n      console.debug(\"Bokeh: BokehJS is being loaded, scheduling callback at\", now());\n      return null;\n    }\n    if (js_urls == null || js_urls.length === 0) {\n      run_callbacks();\n      return null;\n    }\n    console.debug(\"Bokeh: BokehJS not loaded, scheduling load and callback at\", now());\n    root._bokeh_is_loading = css_urls.length + js_urls.length;\n\n    function on_load() {\n      root._bokeh_is_loading--;\n      if (root._bokeh_is_loading === 0) {\n        console.debug(\"Bokeh: all BokehJS libraries/stylesheets loaded\");\n        run_callbacks()\n      }\n    }\n\n    function on_error(url) {\n      console.error(\"failed to load \" + url);\n    }\n\n    for (let i = 0; i < css_urls.length; i++) {\n      const url = css_urls[i];\n      const element = document.createElement(\"link\");\n      element.onload = on_load;\n      element.onerror = on_error.bind(null, url);\n      element.rel = \"stylesheet\";\n      element.type = \"text/css\";\n      element.href = url;\n      console.debug(\"Bokeh: injecting link tag for BokehJS stylesheet: \", url);\n      document.body.appendChild(element);\n    }\n\n    for (let i = 0; i < js_urls.length; i++) {\n      const url = js_urls[i];\n      const element = document.createElement('script');\n      element.onload = on_load;\n      element.onerror = on_error.bind(null, url);\n      element.async = false;\n      element.src = url;\n      console.debug(\"Bokeh: injecting script tag for BokehJS library: \", url);\n      document.head.appendChild(element);\n    }\n  };\n\n  function inject_raw_css(css) {\n    const element = document.createElement(\"style\");\n    element.appendChild(document.createTextNode(css));\n    document.body.appendChild(element);\n  }\n\n  const js_urls = [\"https://cdn.bokeh.org/bokeh/release/bokeh-3.5.2.min.js\", \"https://cdn.bokeh.org/bokeh/release/bokeh-gl-3.5.2.min.js\", \"https://cdn.bokeh.org/bokeh/release/bokeh-widgets-3.5.2.min.js\", \"https://cdn.bokeh.org/bokeh/release/bokeh-tables-3.5.2.min.js\", \"https://cdn.bokeh.org/bokeh/release/bokeh-mathjax-3.5.2.min.js\"];\n  const css_urls = [];\n\n  const inline_js = [    function(Bokeh) {\n      Bokeh.set_log_level(\"info\");\n    },\nfunction(Bokeh) {\n    }\n  ];\n\n  function run_inline_js() {\n    if (root.Bokeh !== undefined || force === true) {\n      try {\n            for (let i = 0; i < inline_js.length; i++) {\n      inline_js[i].call(root, root.Bokeh);\n    }\n\n      } catch (error) {display_loaded(error);throw error;\n      }if (force === true) {\n        display_loaded();\n      }} else if (Date.now() < root._bokeh_timeout) {\n      setTimeout(run_inline_js, 100);\n    } else if (!root._bokeh_failed_load) {\n      console.log(\"Bokeh: BokehJS failed to load within specified timeout.\");\n      root._bokeh_failed_load = true;\n    } else if (force !== true) {\n      const cell = $(document.getElementById(\"c509be0e-39fe-4e71-bba8-b931778c924e\")).parents('.cell').data().cell;\n      cell.output_area.append_execute_result(NB_LOAD_WARNING)\n    }\n  }\n\n  if (root._bokeh_is_loading === 0) {\n    console.debug(\"Bokeh: BokehJS loaded, going straight to plotting\");\n    run_inline_js();\n  } else {\n    load_libs(css_urls, js_urls, function() {\n      console.debug(\"Bokeh: BokehJS plotting callback run at\", now());\n      run_inline_js();\n    });\n  }\n}(window));",
      "application/vnd.bokehjs_load.v0+json": ""
     },
     "metadata": {},
     "output_type": "display_data"
    }
   ],
   "source": [
    "# Import other important libraries\n",
    "\n",
    "from pyspark.rdd import RDD\n",
    "from pyspark.sql import Row\n",
    "from pyspark.sql.types import *\n",
    "\n",
    "import numpy as np\n",
    "import pandas as pd\n",
    "from bokeh.plotting import figure, show, ColumnDataSource\n",
    "from bokeh.models import HoverTool\n",
    "from bokeh.io import output_notebook\n",
    "\n",
    "output_notebook()"
   ]
  },
  {
   "cell_type": "markdown",
   "metadata": {
    "deletable": false,
    "editable": false,
    "nbgrader": {
     "cell_type": "markdown",
     "checksum": "10a41f7082f75a43843018815e6b7d25",
     "grade": false,
     "grade_id": "cell-a37b40688b026b9a",
     "locked": true,
     "schema_version": 3,
     "solution": false
    }
   },
   "source": [
    "---\n",
    "## Part A - On to DataFrames / Datasets\n",
    "\n",
    "A `Dataset` is a distributed collection of data which provides the benefits of RDDs (strong typing, ability to use lambda functions) with the benefits of SparkSQL's optimized execution engine.\n",
    "\n",
    "A `DataFrame` is a `Dataset` organized into named columns. It is conceptually equivalent to a table in a relational database, or a data frame in Python/R. Conceptually, a `DataFrame` is a `Dataset` of `Row`s.\n",
    "\n",
    "As with RDDs, applications can create DataFrames from an existing RDD, a Hive table or from Spark data sources."
   ]
  },
  {
   "cell_type": "markdown",
   "metadata": {
    "deletable": false,
    "editable": false,
    "nbgrader": {
     "cell_type": "markdown",
     "checksum": "aa12bb7ce18076896fa86bfa294d7691",
     "grade": false,
     "grade_id": "cell-e5336c5bf4eae8ef",
     "locked": true,
     "schema_version": 3,
     "solution": false
    }
   },
   "source": [
    "# Question\n",
    "\n",
    "Recall from the previous assignment how we used two tables on students : one for students to grades, another one for students to gender. Let's create a function which takes a RDD of Row and a schema as arguments and generates the corresponding DataFrame."
   ]
  },
  {
   "cell_type": "code",
   "execution_count": null,
   "metadata": {},
   "outputs": [],
   "source": []
  },
  {
   "cell_type": "code",
   "execution_count": 6,
   "metadata": {
    "deletable": false,
    "nbgrader": {
     "cell_type": "code",
     "checksum": "a60e45e3c213939dc899b77a569322ea",
     "grade": false,
     "grade_id": "cell-33e39dc1e3d93fe9",
     "locked": false,
     "schema_version": 3,
     "solution": true
    }
   },
   "outputs": [],
   "source": [
    "def create_dataframe(spark, rdd, schema):\n",
    "    \"\"\"\n",
    "    Generate a DataFrame from a RDD of Rows and a schema.\n",
    "    We assume the RDD is correctly formatted, no need to check for anything.\n",
    "    \"\"\"\n",
    "    return spark.createDataFrame(rdd, schema)\n",
    "    raise NotImplementedError()"
   ]
  },
  {
   "cell_type": "code",
   "execution_count": 7,
   "metadata": {
    "deletable": false,
    "editable": false,
    "nbgrader": {
     "cell_type": "code",
     "checksum": "62e4144642c715703e8343086ad95362",
     "grade": true,
     "grade_id": "cell-e8fd68e91290bbdc",
     "locked": true,
     "points": 2,
     "schema_version": 3,
     "solution": false
    }
   },
   "outputs": [],
   "source": [
    "\"\"\"\n",
    "Graded cell\n",
    "\n",
    "2 points\n",
    "\"\"\"\n",
    "rdd = spark.sparkContext.parallelize([('1', 'a'), ('2', 'b'), ('3', 'c'), ('4', 'd'), ('5', 'e'), ('6', 'f')])\n",
    "schema = StructType([StructField('ID', StringType(), True), StructField('letter', StringType(), True)])\n",
    "\n",
    "result_df = create_dataframe(spark, rdd, schema)\n",
    "assert result_df.schema == schema\n",
    "assert result_df.rdd.collect() == rdd.collect()"
   ]
  },
  {
   "cell_type": "markdown",
   "metadata": {
    "deletable": false,
    "editable": false,
    "nbgrader": {
     "cell_type": "markdown",
     "checksum": "ffa463e480a3796dc6840dade77c29d2",
     "grade": false,
     "grade_id": "cell-90f8ab4ce25e6789",
     "locked": true,
     "schema_version": 3,
     "solution": false
    }
   },
   "source": [
    "Let's generate a Dataframe of the students tables for the incoming questions, using our newly created `create_dataframe` function. We also create temporary views for those DataFrames so we can interact with them in SQL."
   ]
  },
  {
   "cell_type": "code",
   "execution_count": 8,
   "metadata": {
    "deletable": false,
    "editable": false,
    "nbgrader": {
     "cell_type": "code",
     "checksum": "576a688e54e8d23077804e3088373859",
     "grade": false,
     "grade_id": "cell-585b7ef68a2def27",
     "locked": true,
     "schema_version": 3,
     "solution": false
    }
   },
   "outputs": [],
   "source": [
    "genders_rdd = spark.sparkContext.parallelize([('1', 'M'), ('2', 'M'), ('3', 'F'), ('4', 'F'), ('5', 'F'), ('6', 'M')])\n",
    "grades_rdd = spark.sparkContext.parallelize([('1', 5), ('2', 12), ('3', 7), ('4', 18), ('5', 9), ('6', 5)])\n",
    "\n",
    "genders_schema = StructType([StructField('ID', StringType(), True), StructField('gender', StringType(), True)])\n",
    "grades_schema = StructType([StructField('ID', StringType(), True), StructField('grade', StringType(), True)])\n",
    "\n",
    "genders_df = create_dataframe(spark, genders_rdd, genders_schema)\n",
    "grades_df = create_dataframe(spark, grades_rdd, grades_schema)\n",
    "\n",
    "genders_df.createOrReplaceTempView('genders')\n",
    "grades_df.createOrReplaceTempView('grades')"
   ]
  },
  {
   "cell_type": "markdown",
   "metadata": {
    "deletable": false,
    "editable": false,
    "nbgrader": {
     "cell_type": "markdown",
     "checksum": "43a31e2b3f52f535ebb0dc33f5d4600f",
     "grade": false,
     "grade_id": "cell-ed61ff691a07f8cd",
     "locked": true,
     "schema_version": 3,
     "solution": false
    }
   },
   "source": [
    "You have two ways of interacting with a Dataframe :\n",
    "\n",
    "* DataFrames provide a domain-specific language for structured manipulation :\n",
    "\n",
    "```python\n",
    ">> genders_df.filter(genders_df['ID'] > 2)\n",
    "+---+------+\n",
    "| ID|gender|\n",
    "+---+------+\n",
    "|  3|     F|\n",
    "|  4|     F|\n",
    "|  5|     F|\n",
    "|  6|     M|\n",
    "+---+------+\n",
    "```\n",
    "\n",
    "In the more simple cases, you can interact with DataFrames with a syntax close to the Pandas syntax.\n",
    "\n",
    "```python\n",
    ">> genders_df[genders_df['ID'] > 2]\n",
    "+---+------+\n",
    "| ID|gender|\n",
    "+---+------+\n",
    "|  3|     F|\n",
    "|  4|     F|\n",
    "|  5|     F|\n",
    "|  6|     M|\n",
    "+---+------+\n",
    "```\n",
    "\n",
    "* The `sql` function of a SparkSession enables to run SQL queries directly on the frame and returns a DataFrame, on which you can continue your computations\n",
    "\n",
    "```python\n",
    "# Register the DataFrame as a SQL temporary view beforehand\n",
    ">> genders_df.createOrReplaceTempView('genders')\n",
    ">> spark.sql('SELECT * FROM genders WHERE ID > 2').show()\n",
    "+---+------+\n",
    "| ID|gender|\n",
    "+---+------+\n",
    "|  3|     F|\n",
    "|  4|     F|\n",
    "|  5|     F|\n",
    "|  6|     M|\n",
    "+---+------+\n",
    "```\n",
    "\n",
    "Don't hesitate to check the [DataFrame Function Reference](https://spark.apache.org/docs/latest/api/python/pyspark.sql.html#module-pyspark.sql.functions) for all of the operators you can use on a DataFrame. Use the following cell to experiment :)"
   ]
  },
  {
   "cell_type": "code",
   "execution_count": 9,
   "metadata": {},
   "outputs": [
    {
     "name": "stdout",
     "output_type": "stream",
     "text": [
      "+---+------+\n",
      "| ID|gender|\n",
      "+---+------+\n",
      "|  3|     F|\n",
      "|  4|     F|\n",
      "|  5|     F|\n",
      "|  6|     M|\n",
      "+---+------+\n",
      "\n"
     ]
    }
   ],
   "source": [
    "# Use this cell to practice your new SQL skills\n",
    "genders_df[genders_df['ID'] > 2].show()"
   ]
  },
  {
   "cell_type": "markdown",
   "metadata": {
    "deletable": false,
    "editable": false,
    "nbgrader": {
     "cell_type": "markdown",
     "checksum": "84dda8fca16bc681158a766f5c04a039",
     "grade": false,
     "grade_id": "cell-394f3276e415e799",
     "locked": true,
     "schema_version": 3,
     "solution": false
    }
   },
   "source": [
    "# Question\n",
    "\n",
    "Remember the mean grade per gender question from last assignment ? Remember how unpleasant it was ? Let's do that directly in SparkSQL ! You can do it with whatever way pleases you between programmatic SQL or SparkSQL DSL. \n",
    "\n",
    "PS : if you are using programmatic SQL interaction, you may want to define a temporary view of temporary variables. You may want to delete those views at the end of your function with `spark.catalog.dropTempView('your_view')`. Be careful if removing the view, DataFrame are also lazily computed so don't delete your view if you still have not computed and cached the resulting DataFrame."
   ]
  },
  {
   "cell_type": "code",
   "execution_count": 10,
   "metadata": {},
   "outputs": [
    {
     "ename": "NameError",
     "evalue": "name 'mean_grade_per_gender' is not defined",
     "output_type": "error",
     "traceback": [
      "\u001b[1;31m---------------------------------------------------------------------------\u001b[0m",
      "\u001b[1;31mNameError\u001b[0m                                 Traceback (most recent call last)",
      "Cell \u001b[1;32mIn[10], line 3\u001b[0m\n\u001b[0;32m      1\u001b[0m \u001b[38;5;28;01mfrom\u001b[39;00m \u001b[38;5;21;01mpyspark\u001b[39;00m\u001b[38;5;21;01m.\u001b[39;00m\u001b[38;5;21;01msql\u001b[39;00m\u001b[38;5;21;01m.\u001b[39;00m\u001b[38;5;21;01mfunctions\u001b[39;00m \u001b[38;5;28;01mimport\u001b[39;00m avg\n\u001b[1;32m----> 3\u001b[0m result_df \u001b[38;5;241m=\u001b[39m \u001b[43mmean_grade_per_gender\u001b[49m(spark, genders_df, grades_df)\u001b[38;5;241m.\u001b[39mtoPandas()\n\u001b[0;32m      5\u001b[0m result_df[result_df[\u001b[38;5;124m'\u001b[39m\u001b[38;5;124mgender\u001b[39m\u001b[38;5;124m'\u001b[39m] \u001b[38;5;241m==\u001b[39m \u001b[38;5;124m'\u001b[39m\u001b[38;5;124mF\u001b[39m\u001b[38;5;124m'\u001b[39m]\u001b[38;5;241m.\u001b[39mvalues[\u001b[38;5;241m0\u001b[39m][\u001b[38;5;241m1\u001b[39m]\n",
      "\u001b[1;31mNameError\u001b[0m: name 'mean_grade_per_gender' is not defined"
     ]
    }
   ],
   "source": [
    "from pyspark.sql.functions import avg\n",
    "\n",
    "result_df = mean_grade_per_gender(spark, genders_df, grades_df).toPandas()\n",
    "\n",
    "result_df[result_df['gender'] == 'F'].values[0][1]"
   ]
  },
  {
   "cell_type": "code",
   "execution_count": 11,
   "metadata": {
    "deletable": false,
    "nbgrader": {
     "cell_type": "code",
     "checksum": "8eac7b815cee4266095f8e25ba25bba3",
     "grade": false,
     "grade_id": "cell-f3ba785bb228f244",
     "locked": false,
     "schema_version": 3,
     "solution": true
    }
   },
   "outputs": [],
   "source": [
    "from pyspark.sql.functions import avg\n",
    "\n",
    "def mean_grade_per_gender(spark, genders_df, grades_df):\n",
    "    \"\"\"\n",
    "    Given a RDD of studentID to grades and studentID to gender, compute mean grade for each gender returned as paired RDD.\n",
    "    Assume all studentIDs are present in both RDDs, making inner join possible, no need to check that.\n",
    "    Schema of output dataframe should bee gender, mean.\n",
    "    \"\"\"\n",
    "    joined = genders_df.join(grades_df, 'ID').select(genders_df.gender, grades_df.grade)\n",
    "    agrege = joined.groupBy(\"gender\").agg(avg(\"grade\").alias(\"mean\"))\n",
    "    return agrege\n",
    "    raise NotImplementedError()"
   ]
  },
  {
   "cell_type": "code",
   "execution_count": 12,
   "metadata": {
    "deletable": false,
    "editable": false,
    "nbgrader": {
     "cell_type": "code",
     "checksum": "d57dca4e3d70a2debb12ad977a4b9a98",
     "grade": true,
     "grade_id": "cell-a3fc7ed7c358193e",
     "locked": true,
     "points": 3,
     "schema_version": 3,
     "solution": false
    }
   },
   "outputs": [],
   "source": [
    "\"\"\"\n",
    "Graded cell\n",
    "\n",
    "3 points\n",
    "\"\"\"\n",
    "result_df = mean_grade_per_gender(spark, genders_df, grades_df).toPandas()\n",
    "result_df.columns == ['gender', 'grade']\n",
    "\n",
    "assert result_df[result_df['gender'] == 'F'].values[0][1] - 11.3 < 0.1\n",
    "assert result_df[result_df['gender'] == 'M'].values[0][1] - 7.3 < 0.1"
   ]
  },
  {
   "cell_type": "markdown",
   "metadata": {
    "deletable": false,
    "editable": false,
    "nbgrader": {
     "cell_type": "markdown",
     "checksum": "d3ef06f8572566429eeb2d72a1ab47a3",
     "grade": false,
     "grade_id": "cell-f7f70906407004f6",
     "locked": true,
     "schema_version": 3,
     "solution": false
    }
   },
   "source": [
    "---\n",
    "## Part B - Descriptive statistics in SparkSQL\n",
    "\n",
    "Let's reload the `FL_insurance_sample.csv` file from last assignment and freely interact with it.\n",
    "\n",
    "# Question\n",
    "\n",
    "Load the file by giving a path to the file"
   ]
  },
  {
   "cell_type": "code",
   "execution_count": 13,
   "metadata": {},
   "outputs": [
    {
     "name": "stdout",
     "output_type": "stream",
     "text": [
      "+--------+---------+-----------+-------------+-------------+-------------+-------------+---------+----------+------------------+------------------+------------------+------------------+--------------+---------------+-----------+-------------------+-----------------+\n",
      "|policyID|statecode|     county|eq_site_limit|hu_site_limit|fl_site_limit|fr_site_limit| tiv_2011|  tiv_2012|eq_site_deductible|hu_site_deductible|fl_site_deductible|fr_site_deductible|point_latitude|point_longitude|       line|       construction|point_granularity|\n",
      "+--------+---------+-----------+-------------+-------------+-------------+-------------+---------+----------+------------------+------------------+------------------+------------------+--------------+---------------+-----------+-------------------+-----------------+\n",
      "|  119736|       FL|CLAY COUNTY|     498960.0|     498960.0|     498960.0|     498960.0| 498960.0|  792148.9|               0.0|            9979.2|               0.0|                 0|     30.102261|     -81.711777|Residential|            Masonry|                1|\n",
      "|  448094|       FL|CLAY COUNTY|    1322376.3|    1322376.3|    1322376.3|    1322376.3|1322376.3|1438163.57|               0.0|               0.0|               0.0|                 0|     30.063936|     -81.707664|Residential|            Masonry|                3|\n",
      "|  206893|       FL|CLAY COUNTY|     190724.4|     190724.4|     190724.4|     190724.4| 190724.4| 192476.78|               0.0|               0.0|               0.0|                 0|     30.089579|     -81.700455|Residential|               Wood|                1|\n",
      "|  333743|       FL|CLAY COUNTY|          0.0|     79520.76|          0.0|          0.0| 79520.76|  86854.48|               0.0|               0.0|               0.0|                 0|     30.063236|     -81.707703|Residential|               Wood|                3|\n",
      "|  172534|       FL|CLAY COUNTY|          0.0|     254281.5|          0.0|     254281.5| 254281.5| 246144.49|               0.0|               0.0|               0.0|                 0|     30.060614|     -81.702675|Residential|               Wood|                1|\n",
      "|  785275|       FL|CLAY COUNTY|          0.0|    515035.62|          0.0|          0.0|515035.62| 884419.17|               0.0|               0.0|               0.0|                 0|     30.063236|     -81.707703|Residential|            Masonry|                3|\n",
      "|  995932|       FL|CLAY COUNTY|          0.0|      1.926E7|          0.0|          0.0|  1.926E7|   2.061E7|               0.0|               0.0|               0.0|                 0|     30.102226|     -81.713882| Commercial|Reinforced Concrete|                1|\n",
      "|  223488|       FL|CLAY COUNTY|     328500.0|     328500.0|     328500.0|     328500.0| 328500.0| 348374.25|               0.0|           16425.0|               0.0|                 0|     30.102217|     -81.707146|Residential|               Wood|                1|\n",
      "|  433512|       FL|CLAY COUNTY|     315000.0|     315000.0|     315000.0|     315000.0| 315000.0| 265821.57|               0.0|           15750.0|               0.0|                 0|     30.118774|     -81.704613|Residential|               Wood|                1|\n",
      "|  142071|       FL|CLAY COUNTY|     705600.0|     705600.0|     705600.0|     705600.0| 705600.0|1010842.56|           14112.0|           35280.0|               0.0|                 0|     30.100628|     -81.703751|Residential|            Masonry|                1|\n",
      "|  253816|       FL|CLAY COUNTY|     831498.3|     831498.3|     831498.3|     831498.3| 831498.3|1117791.48|               0.0|               0.0|               0.0|                 0|      30.10216|     -81.719444|Residential|            Masonry|                1|\n",
      "|  894922|       FL|CLAY COUNTY|          0.0|     24059.09|          0.0|          0.0| 24059.09|  33952.19|               0.0|               0.0|               0.0|                 0|     30.095957|     -81.695099|Residential|               Wood|                1|\n",
      "|  422834|       FL|CLAY COUNTY|          0.0|     48115.94|          0.0|          0.0| 48115.94|  66755.39|               0.0|               0.0|               0.0|                 0|     30.100073|     -81.739822|Residential|               Wood|                1|\n",
      "|  582721|       FL|CLAY COUNTY|          0.0|     28869.12|          0.0|          0.0| 28869.12|  42826.99|               0.0|               0.0|               0.0|                 0|      30.09248|     -81.725167|Residential|               Wood|                1|\n",
      "|  842700|       FL|CLAY COUNTY|          0.0|     56135.64|          0.0|          0.0| 56135.64|   50656.8|               0.0|               0.0|               0.0|                 0|     30.101356|     -81.726248|Residential|               Wood|                1|\n",
      "|  874333|       FL|CLAY COUNTY|          0.0|     48115.94|          0.0|          0.0| 48115.94|  67905.07|               0.0|               0.0|               0.0|                 0|     30.113743|     -81.727463|Residential|               Wood|                1|\n",
      "|  580146|       FL|CLAY COUNTY|          0.0|     48115.94|          0.0|          0.0| 48115.94|   66938.9|               0.0|               0.0|               0.0|                 0|     30.121655|     -81.732391|Residential|               Wood|                3|\n",
      "|  456149|       FL|CLAY COUNTY|          0.0|     80192.49|          0.0|          0.0| 80192.49|  86421.04|               0.0|               0.0|               0.0|                 0|     30.109537|     -81.741661|Residential|               Wood|                1|\n",
      "|  767862|       FL|CLAY COUNTY|          0.0|     48115.94|          0.0|          0.0| 48115.94|   73798.5|               0.0|               0.0|               0.0|                 0|      30.11824|     -81.745335|Residential|               Wood|                3|\n",
      "|  353022|       FL|CLAY COUNTY|          0.0|     60946.79|          0.0|          0.0| 60946.79|  62467.29|               0.0|               0.0|               0.0|                 0|     30.065799|     -81.717416|Residential|               Wood|                1|\n",
      "+--------+---------+-----------+-------------+-------------+-------------+-------------+---------+----------+------------------+------------------+------------------+------------------+--------------+---------------+-----------+-------------------+-----------------+\n",
      "only showing top 20 rows\n",
      "\n"
     ]
    }
   ],
   "source": [
    "file_path = 'FL_insurance_sample.csv'\n",
    "result_df = read_csv(spark, file_path)\n",
    "\n",
    "result_df.show()"
   ]
  },
  {
   "cell_type": "code",
   "execution_count": 14,
   "metadata": {
    "deletable": false,
    "nbgrader": {
     "cell_type": "code",
     "checksum": "8a8aaf77691064a2f0709ea674097c9d",
     "grade": false,
     "grade_id": "cell-499cfd4c4ed40d81",
     "locked": false,
     "schema_version": 3,
     "solution": true
    }
   },
   "outputs": [],
   "source": [
    "def read_csv(spark, path):\n",
    "    \"\"\"\n",
    "    Create a DataFrame by loading an external csv file. We don't expect any formatting nor processing here. \n",
    "    We assume the file has a header, uses \" as double quote and , as delimiter. Infer its schema automatically.\n",
    "    You don't need to raise an exception if the file does not exist.    \n",
    "    \"\"\"\n",
    "    df = spark.read.option(\"header\", \"true\") \\\n",
    "        .option(\"quote\", \"\\\"\") \\\n",
    "        .option(\"delimiter\", \",\") \\\n",
    "        .option(\"inferSchema\", \"true\") \\\n",
    "        .csv(path)\n",
    "\n",
    "    # df = df.withColumn(\"policyID\", df[\"policyID\"].cast(IntegerType()))\n",
    "    # df = df.withColumn(\"eq_site_limit\", df[\"eq_site_limit\"].cast(DoubleType()))\n",
    "    # df = df.withColumn(\"hu_site_limit\", df[\"hu_site_limit\"].cast(DoubleType()))\n",
    "    # df = df.withColumn(\"fl_site_limit\", df[\"fl_site_limit\"].cast(DoubleType()))\n",
    "    # df = df.withColumn(\"fr_site_limit\", df[\"fr_site_limit\"].cast(DoubleType()))\n",
    "    # df = df.withColumn(\"eq_site_limit\", df[\"eq_site_limit\"].cast(DoubleType()))\n",
    "    # df = df.withColumn(\"tiv_2011\", df[\"tiv_2011\"].cast(DoubleType()))\n",
    "    # df = df.withColumn(\"tiv_2012\", df[\"tiv_2012\"].cast(DoubleType()))\n",
    "    # df = df.withColumn(\"eq_site_deductible\", df[\"eq_site_deductible\"].cast(DoubleType()))\n",
    "    # df = df.withColumn(\"hu_site_deductible\", df[\"hu_site_deductible\"].cast(DoubleType()))\n",
    "    # df = df.withColumn(\"fl_site_deductible\", df[\"fl_site_deductible\"].cast(DoubleType()))\n",
    "    # df = df.withColumn(\"fr_site_deductible\", df[\"fr_site_deductible\"].cast(IntegerType()))\n",
    "    # df = df.withColumn(\"point_latitude\", df[\"point_latitude\"].cast(DoubleType()))\n",
    "    # df = df.withColumn(\"point_longitude\", df[\"point_longitude\"].cast(DoubleType()))\n",
    "    # df = df.withColumn(\"point_granularity\", df[\"point_granularity\"].cast(IntegerType()))\n",
    "\n",
    "\n",
    "    return df\n",
    "\n",
    "    raise NotImplementedError()"
   ]
  },
  {
   "cell_type": "code",
   "execution_count": 15,
   "metadata": {
    "deletable": false,
    "editable": false,
    "nbgrader": {
     "cell_type": "code",
     "checksum": "9a1eb9c16951a70094e2eb14164e8391",
     "grade": true,
     "grade_id": "cell-00468b3f4490d43b",
     "locked": true,
     "points": 2,
     "schema_version": 3,
     "solution": false
    }
   },
   "outputs": [],
   "source": [
    "\"\"\"\n",
    "Graded cell\n",
    "\n",
    "2 points\n",
    "\"\"\"\n",
    "file_path = 'FL_insurance_sample.csv'\n",
    "result_df = read_csv(spark, file_path)\n",
    "\n",
    "assert result_df.schema == StructType([\n",
    "    StructField('policyID',IntegerType(),True),\n",
    "    StructField('statecode',StringType(),True),\n",
    "    StructField('county',StringType(),True),\n",
    "    StructField('eq_site_limit',DoubleType(),True),\n",
    "    StructField('hu_site_limit',DoubleType(),True),\n",
    "    StructField('fl_site_limit',DoubleType(),True),\n",
    "    StructField('fr_site_limit',DoubleType(),True),\n",
    "    StructField('tiv_2011',DoubleType(),True),\n",
    "    StructField('tiv_2012',DoubleType(),True),\n",
    "    StructField('eq_site_deductible',DoubleType(),True),\n",
    "    StructField('hu_site_deductible',DoubleType(),True),\n",
    "    StructField('fl_site_deductible',DoubleType(),True),\n",
    "    StructField('fr_site_deductible',IntegerType(),True),\n",
    "    StructField('point_latitude',DoubleType(),True),\n",
    "    StructField('point_longitude',DoubleType(),True),\n",
    "    StructField('line',StringType(),True),\n",
    "    StructField('construction',StringType(),True),\n",
    "    StructField('point_granularity',IntegerType(),True)\n",
    "])"
   ]
  },
  {
   "cell_type": "markdown",
   "metadata": {
    "deletable": false,
    "editable": false,
    "nbgrader": {
     "cell_type": "markdown",
     "checksum": "53dae314d93d79d671059f9407a2c514",
     "grade": false,
     "grade_id": "cell-268bf2c0c12204ae",
     "locked": true,
     "schema_version": 3,
     "solution": false
    }
   },
   "source": [
    "# Question\n",
    "\n",
    "Let's plot the number of different counties in a histogram, like in the previous assignment. We have imported the `bokeh` module for interactive plotting. To do that, return a Pandas a dataframe which contains, for each county, the number of its occurences in the dataset.\n",
    "\n",
    "_Hint: a Spark Dataframe is distributed on a number of workers, so it cannot be plotted as is. You will need to collect the data you want to plot back in the driver. The `toPandas` is usable to retrieve a Pandas local Dataframe, be careful to only use it on small Dataframes !_"
   ]
  },
  {
   "cell_type": "code",
   "execution_count": 42,
   "metadata": {
    "deletable": false,
    "editable": false,
    "nbgrader": {
     "cell_type": "code",
     "checksum": "0afd6a03f49cb00d9acc6369d8cadc3a",
     "grade": false,
     "grade_id": "cell-25e140d92c569470",
     "locked": true,
     "schema_version": 3,
     "solution": false
    }
   },
   "outputs": [],
   "source": [
    "insurance_df = read_csv(spark, 'FL_insurance_sample.csv')\n",
    "insurance_df.createOrReplaceTempView('insurance')"
   ]
  },
  {
   "cell_type": "code",
   "execution_count": 50,
   "metadata": {},
   "outputs": [
    {
     "data": {
      "text/plain": [
       "array(['CALHOUN COUNTY', 'CLAY COUNTY', 'PUTNAM COUNTY',\n",
       "       'OKALOOSA COUNTY', 'SUMTER COUNTY', 'SUWANNEE COUNTY',\n",
       "       'GULF COUNTY', 'MADISON COUNTY', 'COLUMBIA COUNTY',\n",
       "       'ST  JOHNS COUNTY', 'FRANKLIN COUNTY', 'DUVAL COUNTY',\n",
       "       'MARION COUNTY', 'BAKER COUNTY', 'WASHINGTON COUNTY',\n",
       "       'HAMILTON COUNTY', 'JACKSON COUNTY', 'BAY COUNTY',\n",
       "       'ESCAMBIA COUNTY', 'LEON COUNTY', 'JEFFERSON COUNTY',\n",
       "       'VOLUSIA COUNTY', 'WALTON COUNTY', 'LAFAYETTE COUNTY',\n",
       "       'WAKULLA COUNTY', 'TAYLOR COUNTY', 'BRADFORD COUNTY',\n",
       "       'UNION COUNTY', 'SANTA ROSA COUNTY', 'NASSAU COUNTY',\n",
       "       'ALACHUA COUNTY', 'LIBERTY COUNTY', 'GADSDEN COUNTY',\n",
       "       'HOLMES COUNTY', 'FLAGLER COUNTY', 'LAKE COUNTY'], dtype=object)"
      ]
     },
     "execution_count": 50,
     "metadata": {},
     "output_type": "execute_result"
    }
   ],
   "source": [
    "count_county(spark, insurance_df)[\"county\"].values"
   ]
  },
  {
   "cell_type": "code",
   "execution_count": 45,
   "metadata": {
    "deletable": false,
    "nbgrader": {
     "cell_type": "code",
     "checksum": "2ae528e9603872cb6514fb54fe5492e4",
     "grade": false,
     "grade_id": "cell-ef312f5810eb4820",
     "locked": false,
     "schema_version": 3,
     "solution": true
    }
   },
   "outputs": [],
   "source": [
    "def count_county(spark, insurance_df):\n",
    "    \"\"\"\n",
    "    Return a Pandas dataframe which contains, for each county, the number of its occurences in the dataset. \n",
    "    Schema of the Dataframe should be ['county', 'count']    \n",
    "    \"\"\"\n",
    "    return spark.sql(\"SELECT county, COUNT(*) as count FROM insurance GROUP BY county\").toPandas()\n",
    "    raise NotImplementedError()"
   ]
  },
  {
   "cell_type": "code",
   "execution_count": 46,
   "metadata": {
    "deletable": false,
    "editable": false,
    "nbgrader": {
     "cell_type": "code",
     "checksum": "f830073770b813cebfeefedda91abb9f",
     "grade": true,
     "grade_id": "cell-763e162bf7d285f6",
     "locked": true,
     "points": 3,
     "schema_version": 3,
     "solution": false
    }
   },
   "outputs": [],
   "source": [
    "\"\"\"\n",
    "Graded cell\n",
    "\n",
    "3 points\n",
    "\"\"\"\n",
    "df = count_county(spark, insurance_df)\n",
    "result = df.set_index('county').to_dict()['count']\n",
    "\n",
    "assert result.get('CLAY COUNTY') == 346"
   ]
  },
  {
   "cell_type": "code",
   "execution_count": 47,
   "metadata": {
    "deletable": false,
    "editable": false,
    "nbgrader": {
     "cell_type": "code",
     "checksum": "8a7a5ff2274c9522c799cf3f1698171e",
     "grade": false,
     "grade_id": "cell-1e506728a67966a5",
     "locked": true,
     "schema_version": 3,
     "solution": false
    }
   },
   "outputs": [
    {
     "ename": "AttributeError",
     "evalue": "unexpected attribute 'plot_height' to figure, similar attributes are outer_height, height or min_height",
     "output_type": "error",
     "traceback": [
      "\u001b[1;31m---------------------------------------------------------------------------\u001b[0m",
      "\u001b[1;31mAttributeError\u001b[0m                            Traceback (most recent call last)",
      "Cell \u001b[1;32mIn[47], line 11\u001b[0m\n\u001b[0;32m      4\u001b[0m source \u001b[38;5;241m=\u001b[39m ColumnDataSource(data)\n\u001b[0;32m      6\u001b[0m hover \u001b[38;5;241m=\u001b[39m HoverTool(tooltips\u001b[38;5;241m=\u001b[39m[\n\u001b[0;32m      7\u001b[0m     (\u001b[38;5;124m\"\u001b[39m\u001b[38;5;124mtype\u001b[39m\u001b[38;5;124m\"\u001b[39m, \u001b[38;5;124m\"\u001b[39m\u001b[38;5;124m@county\u001b[39m\u001b[38;5;124m\"\u001b[39m),\n\u001b[0;32m      8\u001b[0m     (\u001b[38;5;124m\"\u001b[39m\u001b[38;5;124mcount\u001b[39m\u001b[38;5;124m\"\u001b[39m, \u001b[38;5;124m\"\u001b[39m\u001b[38;5;124m@count\u001b[39m\u001b[38;5;124m\"\u001b[39m),\n\u001b[0;32m      9\u001b[0m ])\n\u001b[1;32m---> 11\u001b[0m p \u001b[38;5;241m=\u001b[39m \u001b[43mfigure\u001b[49m\u001b[43m(\u001b[49m\u001b[43mx_range\u001b[49m\u001b[38;5;241;43m=\u001b[39;49m\u001b[43mdata\u001b[49m\u001b[43m[\u001b[49m\u001b[38;5;124;43m'\u001b[39;49m\u001b[38;5;124;43mcounty\u001b[39;49m\u001b[38;5;124;43m'\u001b[39;49m\u001b[43m]\u001b[49m\u001b[38;5;241;43m.\u001b[39;49m\u001b[43mvalues\u001b[49m\u001b[43m,\u001b[49m\u001b[43m \u001b[49m\u001b[43mplot_height\u001b[49m\u001b[38;5;241;43m=\u001b[39;49m\u001b[38;5;241;43m250\u001b[39;49m\u001b[43m,\u001b[49m\u001b[43m \u001b[49m\u001b[43mtitle\u001b[49m\u001b[38;5;241;43m=\u001b[39;49m\u001b[38;5;124;43m\"\u001b[39;49m\u001b[38;5;124;43mCounty counts\u001b[39;49m\u001b[38;5;124;43m\"\u001b[39;49m\u001b[43m,\u001b[49m\u001b[43m \u001b[49m\u001b[43mtools\u001b[49m\u001b[38;5;241;43m=\u001b[39;49m\u001b[43m[\u001b[49m\u001b[43mhover\u001b[49m\u001b[43m]\u001b[49m\u001b[43m)\u001b[49m\n\u001b[0;32m     13\u001b[0m p\u001b[38;5;241m.\u001b[39mvbar(x\u001b[38;5;241m=\u001b[39m\u001b[38;5;124m'\u001b[39m\u001b[38;5;124mcounty\u001b[39m\u001b[38;5;124m'\u001b[39m, top\u001b[38;5;241m=\u001b[39m\u001b[38;5;124m'\u001b[39m\u001b[38;5;124mcount\u001b[39m\u001b[38;5;124m'\u001b[39m, width\u001b[38;5;241m=\u001b[39m\u001b[38;5;241m0.9\u001b[39m, source\u001b[38;5;241m=\u001b[39msource)\n\u001b[0;32m     15\u001b[0m p\u001b[38;5;241m.\u001b[39mxgrid\u001b[38;5;241m.\u001b[39mgrid_line_color \u001b[38;5;241m=\u001b[39m \u001b[38;5;28;01mNone\u001b[39;00m\n",
      "File \u001b[1;32mc:\\Users\\maxen\\anaconda3\\envs\\env_tdspark\\Lib\\site-packages\\bokeh\\plotting\\_figure.py:196\u001b[0m, in \u001b[0;36mfigure.__init__\u001b[1;34m(self, *arg, **kw)\u001b[0m\n\u001b[0;32m    194\u001b[0m \u001b[38;5;28;01mfor\u001b[39;00m name \u001b[38;5;129;01min\u001b[39;00m kw\u001b[38;5;241m.\u001b[39mkeys():\n\u001b[0;32m    195\u001b[0m     \u001b[38;5;28;01mif\u001b[39;00m name \u001b[38;5;129;01mnot\u001b[39;00m \u001b[38;5;129;01min\u001b[39;00m names:\n\u001b[1;32m--> 196\u001b[0m         \u001b[38;5;28;43mself\u001b[39;49m\u001b[38;5;241;43m.\u001b[39;49m\u001b[43m_raise_attribute_error_with_matches\u001b[49m\u001b[43m(\u001b[49m\u001b[43mname\u001b[49m\u001b[43m,\u001b[49m\u001b[43m \u001b[49m\u001b[43mnames\u001b[49m\u001b[43m \u001b[49m\u001b[38;5;241;43m|\u001b[39;49m\u001b[43m \u001b[49m\u001b[43mopts\u001b[49m\u001b[38;5;241;43m.\u001b[39;49m\u001b[43mproperties\u001b[49m\u001b[43m(\u001b[49m\u001b[43m)\u001b[49m\u001b[43m)\u001b[49m\n\u001b[0;32m    198\u001b[0m \u001b[38;5;28msuper\u001b[39m()\u001b[38;5;241m.\u001b[39m\u001b[38;5;21m__init__\u001b[39m(\u001b[38;5;241m*\u001b[39marg, \u001b[38;5;241m*\u001b[39m\u001b[38;5;241m*\u001b[39mkw)\n\u001b[0;32m    200\u001b[0m \u001b[38;5;28mself\u001b[39m\u001b[38;5;241m.\u001b[39mx_range \u001b[38;5;241m=\u001b[39m get_range(opts\u001b[38;5;241m.\u001b[39mx_range)\n",
      "File \u001b[1;32mc:\\Users\\maxen\\anaconda3\\envs\\env_tdspark\\Lib\\site-packages\\bokeh\\core\\has_props.py:377\u001b[0m, in \u001b[0;36mHasProps._raise_attribute_error_with_matches\u001b[1;34m(self, name, properties)\u001b[0m\n\u001b[0;32m    374\u001b[0m \u001b[38;5;28;01mif\u001b[39;00m \u001b[38;5;129;01mnot\u001b[39;00m matches:\n\u001b[0;32m    375\u001b[0m     matches, text \u001b[38;5;241m=\u001b[39m \u001b[38;5;28msorted\u001b[39m(properties), \u001b[38;5;124m\"\u001b[39m\u001b[38;5;124mpossible\u001b[39m\u001b[38;5;124m\"\u001b[39m\n\u001b[1;32m--> 377\u001b[0m \u001b[38;5;28;01mraise\u001b[39;00m \u001b[38;5;167;01mAttributeError\u001b[39;00m(\u001b[38;5;124mf\u001b[39m\u001b[38;5;124m\"\u001b[39m\u001b[38;5;124munexpected attribute \u001b[39m\u001b[38;5;132;01m{\u001b[39;00mname\u001b[38;5;132;01m!r}\u001b[39;00m\u001b[38;5;124m to \u001b[39m\u001b[38;5;132;01m{\u001b[39;00m\u001b[38;5;28mself\u001b[39m\u001b[38;5;241m.\u001b[39m\u001b[38;5;18m__class__\u001b[39m\u001b[38;5;241m.\u001b[39m\u001b[38;5;18m__name__\u001b[39m\u001b[38;5;132;01m}\u001b[39;00m\u001b[38;5;124m, \u001b[39m\u001b[38;5;132;01m{\u001b[39;00mtext\u001b[38;5;132;01m}\u001b[39;00m\u001b[38;5;124m attributes are \u001b[39m\u001b[38;5;132;01m{\u001b[39;00mnice_join(matches)\u001b[38;5;132;01m}\u001b[39;00m\u001b[38;5;124m\"\u001b[39m)\n",
      "\u001b[1;31mAttributeError\u001b[0m: unexpected attribute 'plot_height' to figure, similar attributes are outer_height, height or min_height"
     ]
    }
   ],
   "source": [
    "# Plot it for fun with bokeh.\n",
    "data = count_county(spark, insurance_df)\n",
    "\n",
    "source = ColumnDataSource(data)\n",
    "\n",
    "hover = HoverTool(tooltips=[\n",
    "    (\"type\", \"@county\"),\n",
    "    (\"count\", \"@count\"),\n",
    "])\n",
    "\n",
    "p = figure(x_range=data['county'].values, plot_height=250, title=\"County counts\", tools=[hover])\n",
    "\n",
    "p.vbar(x='county', top='count', width=0.9, source=source)\n",
    "\n",
    "p.xgrid.grid_line_color = None\n",
    "p.y_range.start = 0\n",
    "\n",
    "show(p)"
   ]
  },
  {
   "cell_type": "markdown",
   "metadata": {
    "deletable": false,
    "editable": false,
    "nbgrader": {
     "cell_type": "markdown",
     "checksum": "6cad25978528231cd59c728826d7adc0",
     "grade": false,
     "grade_id": "cell-7bfa0111bdc89374",
     "locked": true,
     "schema_version": 3,
     "solution": false
    }
   },
   "source": [
    "# Postrequisites"
   ]
  },
  {
   "cell_type": "code",
   "execution_count": null,
   "metadata": {
    "deletable": false,
    "editable": false,
    "nbgrader": {
     "cell_type": "code",
     "checksum": "7f7237812e59b81cf93e7371b836c222",
     "grade": false,
     "grade_id": "cell-d620c45785d3135d",
     "locked": true,
     "schema_version": 3,
     "solution": false
    }
   },
   "outputs": [],
   "source": [
    "spark.stop()"
   ]
  }
 ],
 "metadata": {
  "kernelspec": {
   "display_name": "env_tdspark",
   "language": "python",
   "name": "python3"
  },
  "language_info": {
   "codemirror_mode": {
    "name": "ipython",
    "version": 3
   },
   "file_extension": ".py",
   "mimetype": "text/x-python",
   "name": "python",
   "nbconvert_exporter": "python",
   "pygments_lexer": "ipython3",
   "version": "3.11.10"
  }
 },
 "nbformat": 4,
 "nbformat_minor": 2
}
